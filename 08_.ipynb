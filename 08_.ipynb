{
 "cells": [
  {
   "cell_type": "code",
   "execution_count": 1,
   "metadata": {},
   "outputs": [],
   "source": [
    "import numpy as np"
   ]
  },
  {
   "cell_type": "code",
   "execution_count": 2,
   "metadata": {},
   "outputs": [],
   "source": [
    "numeros = np.arange(11)*2"
   ]
  },
  {
   "cell_type": "code",
   "execution_count": 3,
   "metadata": {},
   "outputs": [
    {
     "data": {
      "text/plain": [
       "array([ 0,  2,  4,  6,  8, 10, 12, 14, 16, 18, 20])"
      ]
     },
     "execution_count": 3,
     "metadata": {},
     "output_type": "execute_result"
    }
   ],
   "source": [
    "numeros"
   ]
  },
  {
   "cell_type": "code",
   "execution_count": 4,
   "metadata": {},
   "outputs": [],
   "source": [
    "indices = [2,5,7]"
   ]
  },
  {
   "cell_type": "code",
   "execution_count": 5,
   "metadata": {},
   "outputs": [
    {
     "data": {
      "text/plain": [
       "array([ 4, 10, 14])"
      ]
     },
     "execution_count": 5,
     "metadata": {},
     "output_type": "execute_result"
    }
   ],
   "source": [
    "numeros[indices]"
   ]
  },
  {
   "cell_type": "code",
   "execution_count": 6,
   "metadata": {},
   "outputs": [],
   "source": [
    "# rutas\n",
    "\n",
    "arreglo_frutas = np.array([\n",
    "    ['Piña', 'Manzana', 'Pera', 'Melon'],\n",
    "    ['Pera', 'Uva', 'Naranja', 'Papaya'],\n",
    "    ['Frutilla', 'Platano', 'Grandadilla', 'Achotillo']\n",
    "])"
   ]
  },
  {
   "cell_type": "code",
   "execution_count": 7,
   "metadata": {},
   "outputs": [
    {
     "data": {
      "text/plain": [
       "(3, 4)"
      ]
     },
     "execution_count": 7,
     "metadata": {},
     "output_type": "execute_result"
    }
   ],
   "source": [
    "arreglo_frutas.shape"
   ]
  },
  {
   "cell_type": "code",
   "execution_count": 8,
   "metadata": {},
   "outputs": [],
   "source": [
    "arreglo_filas = np.array([\n",
    "    [0,0],\n",
    "    [1,1],\n",
    "    [2,2],\n",
    "])"
   ]
  },
  {
   "cell_type": "code",
   "execution_count": 9,
   "metadata": {},
   "outputs": [],
   "source": [
    "arreglo_columnas = np.array([\n",
    "    [1,3],\n",
    "    [1,2],\n",
    "    [0,2],\n",
    "])"
   ]
  },
  {
   "cell_type": "code",
   "execution_count": 10,
   "metadata": {},
   "outputs": [
    {
     "data": {
      "text/plain": [
       "array([[1, 3],\n",
       "       [1, 2],\n",
       "       [0, 2]])"
      ]
     },
     "execution_count": 10,
     "metadata": {},
     "output_type": "execute_result"
    }
   ],
   "source": [
    "arreglo_columnas"
   ]
  },
  {
   "cell_type": "code",
   "execution_count": 11,
   "metadata": {},
   "outputs": [
    {
     "data": {
      "text/plain": [
       "array([['Manzana', 'Melon'],\n",
       "       ['Uva', 'Naranja'],\n",
       "       ['Frutilla', 'Grandadilla']], dtype='<U11')"
      ]
     },
     "execution_count": 11,
     "metadata": {},
     "output_type": "execute_result"
    }
   ],
   "source": [
    "arreglo_frutas[arreglo_filas, arreglo_columnas]"
   ]
  },
  {
   "cell_type": "code",
   "execution_count": 12,
   "metadata": {},
   "outputs": [
    {
     "data": {
      "text/plain": [
       "array([['Piña', 'Manzana', 'Pera', 'Melon'],\n",
       "       ['Pera', 'Uva', 'Naranja', 'Papaya'],\n",
       "       ['Frutilla', 'Platano', 'Grandadilla', 'Achotillo']], dtype='<U11')"
      ]
     },
     "execution_count": 12,
     "metadata": {},
     "output_type": "execute_result"
    }
   ],
   "source": [
    "arreglo_frutas\n",
    "\n",
    "#arreglo_frutas.shape"
   ]
  },
  {
   "cell_type": "code",
   "execution_count": 13,
   "metadata": {},
   "outputs": [
    {
     "data": {
      "text/plain": [
       "array([['Pera', 'Melon'],\n",
       "       ['Naranja', 'Papaya'],\n",
       "       ['Grandadilla', 'Achotillo']], dtype='<U11')"
      ]
     },
     "execution_count": 13,
     "metadata": {},
     "output_type": "execute_result"
    }
   ],
   "source": [
    "arreglo_filas = np.array([\n",
    "    [0,0],\n",
    "    [1,1],\n",
    "    [2,2],\n",
    "])\n",
    "\n",
    "arreglo_columnas = np.array([\n",
    "    [2,3],\n",
    "    [2,3],\n",
    "    [2,3],\n",
    "])\n",
    "\n",
    "arreglo_frutas[arreglo_filas, arreglo_columnas]"
   ]
  },
  {
   "cell_type": "code",
   "execution_count": 14,
   "metadata": {},
   "outputs": [],
   "source": [
    "arreglo_frutas_2 = np.array([\n",
    "    ['Piña', 'Manzana', 'Pera', 'Melon'],\n",
    "    ['Higo', 'Uva', 'Naranja', 'Papaya'],\n",
    "    ['Frutilla', 'Platano', 'Grandadilla', 'Achotillo'],\n",
    "    ['Mango', 'Uvilla', 'Arandanos', 'Frambuesa'],\n",
    "    ['Mandarina', 'Chirimoya', 'Guanabana', 'Kiwi'],\n",
    "    ['Cereza', 'Ciruela', 'Níspero', 'Nuez']\n",
    "])"
   ]
  },
  {
   "cell_type": "code",
   "execution_count": 15,
   "metadata": {},
   "outputs": [
    {
     "data": {
      "text/plain": [
       "(24,)"
      ]
     },
     "execution_count": 15,
     "metadata": {},
     "output_type": "execute_result"
    }
   ],
   "source": [
    "arreglo_frutas_2.flatten().shape"
   ]
  },
  {
   "cell_type": "code",
   "execution_count": 16,
   "metadata": {},
   "outputs": [],
   "source": [
    "arreglo_frutas_2.shape = 4,3,2"
   ]
  },
  {
   "cell_type": "code",
   "execution_count": 17,
   "metadata": {},
   "outputs": [
    {
     "data": {
      "text/plain": [
       "array([[['Piña', 'Manzana'],\n",
       "        ['Pera', 'Melon'],\n",
       "        ['Higo', 'Uva']],\n",
       "\n",
       "       [['Naranja', 'Papaya'],\n",
       "        ['Frutilla', 'Platano'],\n",
       "        ['Grandadilla', 'Achotillo']],\n",
       "\n",
       "       [['Mango', 'Uvilla'],\n",
       "        ['Arandanos', 'Frambuesa'],\n",
       "        ['Mandarina', 'Chirimoya']],\n",
       "\n",
       "       [['Guanabana', 'Kiwi'],\n",
       "        ['Cereza', 'Ciruela'],\n",
       "        ['Níspero', 'Nuez']]], dtype='<U11')"
      ]
     },
     "execution_count": 17,
     "metadata": {},
     "output_type": "execute_result"
    }
   ],
   "source": [
    "arreglo_frutas_2"
   ]
  },
  {
   "cell_type": "code",
   "execution_count": 18,
   "metadata": {},
   "outputs": [],
   "source": [
    "arreglo_filas = np.array([\n",
    "    [0,2,2],\n",
    "])\n",
    "\n",
    "arreglo_columnas = np.array([\n",
    "    [0,1,1],\n",
    "])\n",
    "\n",
    "arreglo_profundidad = np.array([\n",
    "    [0,3,1],\n",
    "])"
   ]
  },
  {
   "cell_type": "code",
   "execution_count": 19,
   "metadata": {},
   "outputs": [
    {
     "data": {
      "text/plain": [
       "array([['Piña', 'Nuez', 'Achotillo']], dtype='<U11')"
      ]
     },
     "execution_count": 19,
     "metadata": {},
     "output_type": "execute_result"
    }
   ],
   "source": [
    "arreglo_frutas_2[arreglo_profundidad, arreglo_filas, arreglo_columnas]\n",
    "# arreglo_frutas_2[1, 1, 1]"
   ]
  },
  {
   "cell_type": "code",
   "execution_count": 20,
   "metadata": {},
   "outputs": [],
   "source": [
    "arreglo_filas = np.array([\n",
    "    [\n",
    "        [0,0],\n",
    "        [1,1],\n",
    "        [2,2]\n",
    "    ],\n",
    "    [\n",
    "        [0,0],\n",
    "        [1,1],\n",
    "        [2,2]\n",
    "    ],\n",
    "    [\n",
    "        [0,0],\n",
    "        [1,1],\n",
    "        [2,2]\n",
    "    ],\n",
    "    [\n",
    "        [0,0],\n",
    "        [1,1],\n",
    "        [2,2]\n",
    "    ]\n",
    "])\n",
    "\n",
    "arreglo_columnas = np.array([\n",
    "    [\n",
    "        [0,1],\n",
    "        [0,1],\n",
    "        [0,1]\n",
    "    ],\n",
    "    [\n",
    "        [0,1],\n",
    "        [0,1],\n",
    "        [0,1]\n",
    "    ],\n",
    "    [\n",
    "        [0,1],\n",
    "        [0,1],\n",
    "        [0,1]\n",
    "    ],\n",
    "    [\n",
    "        [0,1],\n",
    "        [0,1],\n",
    "        [0,1]\n",
    "    ]\n",
    "])\n",
    "\n",
    "arreglo_profundidad = np.array([\n",
    "    [\n",
    "        [0,0],\n",
    "        [0,0],\n",
    "        [0,0],\n",
    "    ],\n",
    "    [\n",
    "        [1,1],\n",
    "        [1,1],\n",
    "        [1,1]\n",
    "    ],\n",
    "    [\n",
    "        [2,2],\n",
    "        [2,2],\n",
    "        [2,2]   \n",
    "    ],\n",
    "    [\n",
    "        [3,3],\n",
    "        [3,3],\n",
    "        [3,3]\n",
    "    ]\n",
    "])"
   ]
  },
  {
   "cell_type": "code",
   "execution_count": 21,
   "metadata": {},
   "outputs": [
    {
     "data": {
      "text/plain": [
       "array([[['Piña', 'Manzana'],\n",
       "        ['Pera', 'Melon'],\n",
       "        ['Higo', 'Uva']],\n",
       "\n",
       "       [['Naranja', 'Papaya'],\n",
       "        ['Frutilla', 'Platano'],\n",
       "        ['Grandadilla', 'Achotillo']],\n",
       "\n",
       "       [['Mango', 'Uvilla'],\n",
       "        ['Arandanos', 'Frambuesa'],\n",
       "        ['Mandarina', 'Chirimoya']],\n",
       "\n",
       "       [['Guanabana', 'Kiwi'],\n",
       "        ['Cereza', 'Ciruela'],\n",
       "        ['Níspero', 'Nuez']]], dtype='<U11')"
      ]
     },
     "execution_count": 21,
     "metadata": {},
     "output_type": "execute_result"
    }
   ],
   "source": [
    "arreglo_frutas_2[arreglo_profundidad, arreglo_filas, arreglo_columnas]"
   ]
  },
  {
   "cell_type": "code",
   "execution_count": 22,
   "metadata": {},
   "outputs": [
    {
     "data": {
      "text/plain": [
       "array([['Piña', 'Manzana', 'Pera', 'Melon'],\n",
       "       ['Pera', 'Uva', 'Naranja', 'Papaya'],\n",
       "       ['Frutilla', 'Platano', 'Grandadilla', 'Achotillo']], dtype='<U11')"
      ]
     },
     "execution_count": 22,
     "metadata": {},
     "output_type": "execute_result"
    }
   ],
   "source": [
    "arreglo_frutas"
   ]
  },
  {
   "cell_type": "code",
   "execution_count": 23,
   "metadata": {},
   "outputs": [],
   "source": [
    "arreglo_frutas_1d = arreglo_frutas.flatten()"
   ]
  },
  {
   "cell_type": "code",
   "execution_count": 24,
   "metadata": {},
   "outputs": [
    {
     "data": {
      "text/plain": [
       "array(['Piña', 'Manzana', 'Pera', 'Melon', 'Pera', 'Uva', 'Naranja',\n",
       "       'Papaya', 'Frutilla', 'Platano', 'Grandadilla', 'Achotillo'],\n",
       "      dtype='<U11')"
      ]
     },
     "execution_count": 24,
     "metadata": {},
     "output_type": "execute_result"
    }
   ],
   "source": [
    "arreglo_frutas_1d"
   ]
  },
  {
   "cell_type": "code",
   "execution_count": 25,
   "metadata": {},
   "outputs": [
    {
     "name": "stdout",
     "output_type": "stream",
     "text": [
      "Piña\n",
      "Pera\n",
      "Pera\n",
      "Papaya\n",
      "Platano\n"
     ]
    }
   ],
   "source": [
    "for fruta in arreglo_frutas_1d:\n",
    "    if 'P' in fruta:\n",
    "        print(fruta)"
   ]
  },
  {
   "cell_type": "code",
   "execution_count": null,
   "metadata": {},
   "outputs": [],
   "source": []
  },
  {
   "cell_type": "code",
   "execution_count": null,
   "metadata": {},
   "outputs": [],
   "source": []
  },
  {
   "cell_type": "code",
   "execution_count": null,
   "metadata": {},
   "outputs": [],
   "source": []
  },
  {
   "cell_type": "code",
   "execution_count": null,
   "metadata": {},
   "outputs": [],
   "source": []
  },
  {
   "cell_type": "code",
   "execution_count": null,
   "metadata": {},
   "outputs": [],
   "source": []
  },
  {
   "cell_type": "code",
   "execution_count": null,
   "metadata": {},
   "outputs": [],
   "source": []
  },
  {
   "cell_type": "code",
   "execution_count": null,
   "metadata": {},
   "outputs": [],
   "source": []
  }
 ],
 "metadata": {
  "kernelspec": {
   "display_name": "Python 3",
   "language": "python",
   "name": "python3"
  },
  "language_info": {
   "codemirror_mode": {
    "name": "ipython",
    "version": 3
   },
   "file_extension": ".py",
   "mimetype": "text/x-python",
   "name": "python",
   "nbconvert_exporter": "python",
   "pygments_lexer": "ipython3",
   "version": "3.7.1"
  }
 },
 "nbformat": 4,
 "nbformat_minor": 2
}
